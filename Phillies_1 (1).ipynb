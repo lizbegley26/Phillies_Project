{
  "nbformat": 4,
  "nbformat_minor": 0,
  "metadata": {
    "colab": {
      "name": "Phillies #1",
      "provenance": []
    },
    "kernelspec": {
      "name": "python3",
      "display_name": "Python 3"
    },
    "language_info": {
      "name": "python"
    }
  },
  "cells": [
    {
      "cell_type": "markdown",
      "source": [
        "### **Phillies Baseball R&D Questionnaire**\n",
        "Question A"
      ],
      "metadata": {
        "id": "I3cyZORZy5Ud"
      }
    },
    {
      "cell_type": "markdown",
      "source": [
        "My initial thoughts when looking at this function included:\n",
        " * Why use range(0,..) since it automatically starts at 0 with one argument passed?\n",
        " * Why replace x each loop with “true” if it is going to be overridden each time with the next character?\n",
        " * Can we avoid using two loops? Although the length of the words being tested may be short, each loop would have a linear time complexity O(N) where N is the number of characters in the string s.\n",
        " * Can we avoid comparing each individual letter by just comparing the original string with itself in reverse?\n",
        "\n",
        "Using the above questions, I would rewrite this function as follows:\n"
      ],
      "metadata": {
        "id": "bZVh5SuYy7Xt"
      }
    },
    {
      "cell_type": "code",
      "source": [
        "def is_palindrone(s):\n",
        "   return s == s[::-1]"
      ],
      "metadata": {
        "id": "Cwakr0Hey5C0"
      },
      "execution_count": 1,
      "outputs": []
    },
    {
      "cell_type": "markdown",
      "source": [
        "I would also like to ask a few specification questions regarding how the end-user defines the term “palindrome”.\n",
        "\n",
        "For example, should capitalization matter? Would they like “Hannah” to be considered a palindrome? According to the original function, it is not. This could quickly be fixed by using .lower() on each string.\n",
        "\n",
        "Another question would be should spaces matter? Should “race car” be considered a palindrome? The original function would return false in this case. This could be fixed by using .replace(“ ”, “”) to remove spaces from the original argument before the comparison.\n",
        "\n",
        "Lastly, is it possible that someone would pass an integer rather than a string? This would cause an error.  If they want the number 12321 to be considered a palindrome, I would first convert the argument to be a string before testing it. \n"
      ],
      "metadata": {
        "id": "rtPGChEAzKe8"
      }
    }
  ]
}