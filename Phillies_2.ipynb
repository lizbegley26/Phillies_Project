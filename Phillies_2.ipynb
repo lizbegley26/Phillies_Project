{
  "nbformat": 4,
  "nbformat_minor": 0,
  "metadata": {
    "colab": {
      "name": "Phillies #2",
      "provenance": [],
      "collapsed_sections": []
    },
    "kernelspec": {
      "name": "python3",
      "display_name": "Python 3"
    },
    "language_info": {
      "name": "python"
    }
  },
  "cells": [
    {
      "cell_type": "markdown",
      "source": [
        "### **Phillies Baseball R&D Questionnaire**\n",
        "Question B"
      ],
      "metadata": {
        "id": "oNV1ZIvbRfHc"
      }
    },
    {
      "cell_type": "code",
      "execution_count": 20,
      "metadata": {
        "id": "JrYS4yIWZDkk",
        "colab": {
          "base_uri": "https://localhost:8080/"
        },
        "outputId": "52204c08-1634-4b83-b977-3574c85abf0a"
      },
      "outputs": [
        {
          "output_type": "stream",
          "name": "stdout",
          "text": [
            "Requirement already satisfied: lxml in /usr/local/lib/python3.7/dist-packages (4.2.6)\n"
          ]
        }
      ],
      "source": [
        "#imports \n",
        "\n",
        "#Pandas dataframes\n",
        "import pandas as pd\n",
        "\n",
        "#Regular Expressions\n",
        "import re\n",
        "\n",
        "# Sqlite - simple database\n",
        "import sqlite3\n",
        "\n",
        "# For fetching/reading remote data\n",
        "import urllib\n",
        "import urllib.request\n",
        "from urllib.request import urlopen\n",
        "\n",
        "#for processing html\n",
        "!pip3 install lxml\n",
        "from lxml import etree\n",
        "from bs4 import BeautifulSoup\n",
        "\n",
        "#for visualizations\n",
        "import matplotlib.pyplot as plt\n",
        "import numpy as np\n",
        "import math"
      ]
    },
    {
      "cell_type": "markdown",
      "source": [
        "Read in the Data \n",
        " - using pandas read_html()"
      ],
      "metadata": {
        "id": "YYYzsQc5VwDd"
      }
    },
    {
      "cell_type": "code",
      "source": [
        "df = pd.read_html('https://questionnaire-148920.appspot.com/swe/data.html')[0]\n",
        "df.head()"
      ],
      "metadata": {
        "id": "OQBieQPNZGam",
        "colab": {
          "base_uri": "https://localhost:8080/",
          "height": 206
        },
        "outputId": "cb859c30-2688-4dd6-ae78-0e55f3ca5cde"
      },
      "execution_count": 21,
      "outputs": [
        {
          "output_type": "execute_result",
          "data": {
            "text/plain": [
              "              Player       Salary  Year Level\n",
              "0        Abreu, Jose  $11,666,667  2016   MLB\n",
              "1    Acevedo, Andury     $507,500  2016   MLB\n",
              "2     Ackley, Dustin   $3,200,000  2016   MLB\n",
              "3  Adames, Cristhian     $507,500  2016   MLB\n",
              "4      Adams, Austin     $507,500  2016   MLB"
            ],
            "text/html": [
              "\n",
              "  <div id=\"df-6d687615-5aef-47d5-9e58-ef12a2c9de6d\">\n",
              "    <div class=\"colab-df-container\">\n",
              "      <div>\n",
              "<style scoped>\n",
              "    .dataframe tbody tr th:only-of-type {\n",
              "        vertical-align: middle;\n",
              "    }\n",
              "\n",
              "    .dataframe tbody tr th {\n",
              "        vertical-align: top;\n",
              "    }\n",
              "\n",
              "    .dataframe thead th {\n",
              "        text-align: right;\n",
              "    }\n",
              "</style>\n",
              "<table border=\"1\" class=\"dataframe\">\n",
              "  <thead>\n",
              "    <tr style=\"text-align: right;\">\n",
              "      <th></th>\n",
              "      <th>Player</th>\n",
              "      <th>Salary</th>\n",
              "      <th>Year</th>\n",
              "      <th>Level</th>\n",
              "    </tr>\n",
              "  </thead>\n",
              "  <tbody>\n",
              "    <tr>\n",
              "      <th>0</th>\n",
              "      <td>Abreu, Jose</td>\n",
              "      <td>$11,666,667</td>\n",
              "      <td>2016</td>\n",
              "      <td>MLB</td>\n",
              "    </tr>\n",
              "    <tr>\n",
              "      <th>1</th>\n",
              "      <td>Acevedo, Andury</td>\n",
              "      <td>$507,500</td>\n",
              "      <td>2016</td>\n",
              "      <td>MLB</td>\n",
              "    </tr>\n",
              "    <tr>\n",
              "      <th>2</th>\n",
              "      <td>Ackley, Dustin</td>\n",
              "      <td>$3,200,000</td>\n",
              "      <td>2016</td>\n",
              "      <td>MLB</td>\n",
              "    </tr>\n",
              "    <tr>\n",
              "      <th>3</th>\n",
              "      <td>Adames, Cristhian</td>\n",
              "      <td>$507,500</td>\n",
              "      <td>2016</td>\n",
              "      <td>MLB</td>\n",
              "    </tr>\n",
              "    <tr>\n",
              "      <th>4</th>\n",
              "      <td>Adams, Austin</td>\n",
              "      <td>$507,500</td>\n",
              "      <td>2016</td>\n",
              "      <td>MLB</td>\n",
              "    </tr>\n",
              "  </tbody>\n",
              "</table>\n",
              "</div>\n",
              "      <button class=\"colab-df-convert\" onclick=\"convertToInteractive('df-6d687615-5aef-47d5-9e58-ef12a2c9de6d')\"\n",
              "              title=\"Convert this dataframe to an interactive table.\"\n",
              "              style=\"display:none;\">\n",
              "        \n",
              "  <svg xmlns=\"http://www.w3.org/2000/svg\" height=\"24px\"viewBox=\"0 0 24 24\"\n",
              "       width=\"24px\">\n",
              "    <path d=\"M0 0h24v24H0V0z\" fill=\"none\"/>\n",
              "    <path d=\"M18.56 5.44l.94 2.06.94-2.06 2.06-.94-2.06-.94-.94-2.06-.94 2.06-2.06.94zm-11 1L8.5 8.5l.94-2.06 2.06-.94-2.06-.94L8.5 2.5l-.94 2.06-2.06.94zm10 10l.94 2.06.94-2.06 2.06-.94-2.06-.94-.94-2.06-.94 2.06-2.06.94z\"/><path d=\"M17.41 7.96l-1.37-1.37c-.4-.4-.92-.59-1.43-.59-.52 0-1.04.2-1.43.59L10.3 9.45l-7.72 7.72c-.78.78-.78 2.05 0 2.83L4 21.41c.39.39.9.59 1.41.59.51 0 1.02-.2 1.41-.59l7.78-7.78 2.81-2.81c.8-.78.8-2.07 0-2.86zM5.41 20L4 18.59l7.72-7.72 1.47 1.35L5.41 20z\"/>\n",
              "  </svg>\n",
              "      </button>\n",
              "      \n",
              "  <style>\n",
              "    .colab-df-container {\n",
              "      display:flex;\n",
              "      flex-wrap:wrap;\n",
              "      gap: 12px;\n",
              "    }\n",
              "\n",
              "    .colab-df-convert {\n",
              "      background-color: #E8F0FE;\n",
              "      border: none;\n",
              "      border-radius: 50%;\n",
              "      cursor: pointer;\n",
              "      display: none;\n",
              "      fill: #1967D2;\n",
              "      height: 32px;\n",
              "      padding: 0 0 0 0;\n",
              "      width: 32px;\n",
              "    }\n",
              "\n",
              "    .colab-df-convert:hover {\n",
              "      background-color: #E2EBFA;\n",
              "      box-shadow: 0px 1px 2px rgba(60, 64, 67, 0.3), 0px 1px 3px 1px rgba(60, 64, 67, 0.15);\n",
              "      fill: #174EA6;\n",
              "    }\n",
              "\n",
              "    [theme=dark] .colab-df-convert {\n",
              "      background-color: #3B4455;\n",
              "      fill: #D2E3FC;\n",
              "    }\n",
              "\n",
              "    [theme=dark] .colab-df-convert:hover {\n",
              "      background-color: #434B5C;\n",
              "      box-shadow: 0px 1px 3px 1px rgba(0, 0, 0, 0.15);\n",
              "      filter: drop-shadow(0px 1px 2px rgba(0, 0, 0, 0.3));\n",
              "      fill: #FFFFFF;\n",
              "    }\n",
              "  </style>\n",
              "\n",
              "      <script>\n",
              "        const buttonEl =\n",
              "          document.querySelector('#df-6d687615-5aef-47d5-9e58-ef12a2c9de6d button.colab-df-convert');\n",
              "        buttonEl.style.display =\n",
              "          google.colab.kernel.accessAllowed ? 'block' : 'none';\n",
              "\n",
              "        async function convertToInteractive(key) {\n",
              "          const element = document.querySelector('#df-6d687615-5aef-47d5-9e58-ef12a2c9de6d');\n",
              "          const dataTable =\n",
              "            await google.colab.kernel.invokeFunction('convertToInteractive',\n",
              "                                                     [key], {});\n",
              "          if (!dataTable) return;\n",
              "\n",
              "          const docLinkHtml = 'Like what you see? Visit the ' +\n",
              "            '<a target=\"_blank\" href=https://colab.research.google.com/notebooks/data_table.ipynb>data table notebook</a>'\n",
              "            + ' to learn more about interactive tables.';\n",
              "          element.innerHTML = '';\n",
              "          dataTable['output_type'] = 'display_data';\n",
              "          await google.colab.output.renderOutput(dataTable, element);\n",
              "          const docLink = document.createElement('div');\n",
              "          docLink.innerHTML = docLinkHtml;\n",
              "          element.appendChild(docLink);\n",
              "        }\n",
              "      </script>\n",
              "    </div>\n",
              "  </div>\n",
              "  "
            ]
          },
          "metadata": {},
          "execution_count": 21
        }
      ]
    },
    {
      "cell_type": "markdown",
      "source": [
        "Clean the Data\n",
        " - Remove $ and ,'s from Salary\n",
        " - Seperate first and last name\n",
        " - Drop uneccesary columns"
      ],
      "metadata": {
        "id": "dGpmU-jUWgcF"
      }
    },
    {
      "cell_type": "code",
      "source": [
        "def clean_salary(x):\n",
        "  y = re.sub(\"[^\\d]\", \"\", str(x))\n",
        "  if (y.isnumeric()):\n",
        "    return float(y)\n",
        "  else:\n",
        "    return None\n",
        "    \n",
        "\n",
        "#use apply to call the function over each element, returning a new Series\n",
        "df['Salary'] = df['Salary'].apply(clean_salary)\n",
        "\n",
        "#split first and last name \n",
        "df[['Lastname', 'Firstname']] = df['Player'].str.split(', ', expand=True)\n",
        "\n",
        "#drop Year & Level \n",
        "df = df.drop(columns=['Year', 'Level', 'Player'])\n",
        "\n",
        "df.head()"
      ],
      "metadata": {
        "id": "dzy9VSVXZGf4",
        "colab": {
          "base_uri": "https://localhost:8080/",
          "height": 206
        },
        "outputId": "f1b2e17d-fe5e-43c5-b6f6-a239ec1f98ad"
      },
      "execution_count": 22,
      "outputs": [
        {
          "output_type": "execute_result",
          "data": {
            "text/plain": [
              "       Salary Lastname  Firstname\n",
              "0  11666667.0    Abreu       Jose\n",
              "1    507500.0  Acevedo     Andury\n",
              "2   3200000.0   Ackley     Dustin\n",
              "3    507500.0   Adames  Cristhian\n",
              "4    507500.0    Adams     Austin"
            ],
            "text/html": [
              "\n",
              "  <div id=\"df-a3b8eea0-da5f-4d52-8aa8-1b8796f1e6c7\">\n",
              "    <div class=\"colab-df-container\">\n",
              "      <div>\n",
              "<style scoped>\n",
              "    .dataframe tbody tr th:only-of-type {\n",
              "        vertical-align: middle;\n",
              "    }\n",
              "\n",
              "    .dataframe tbody tr th {\n",
              "        vertical-align: top;\n",
              "    }\n",
              "\n",
              "    .dataframe thead th {\n",
              "        text-align: right;\n",
              "    }\n",
              "</style>\n",
              "<table border=\"1\" class=\"dataframe\">\n",
              "  <thead>\n",
              "    <tr style=\"text-align: right;\">\n",
              "      <th></th>\n",
              "      <th>Salary</th>\n",
              "      <th>Lastname</th>\n",
              "      <th>Firstname</th>\n",
              "    </tr>\n",
              "  </thead>\n",
              "  <tbody>\n",
              "    <tr>\n",
              "      <th>0</th>\n",
              "      <td>11666667.0</td>\n",
              "      <td>Abreu</td>\n",
              "      <td>Jose</td>\n",
              "    </tr>\n",
              "    <tr>\n",
              "      <th>1</th>\n",
              "      <td>507500.0</td>\n",
              "      <td>Acevedo</td>\n",
              "      <td>Andury</td>\n",
              "    </tr>\n",
              "    <tr>\n",
              "      <th>2</th>\n",
              "      <td>3200000.0</td>\n",
              "      <td>Ackley</td>\n",
              "      <td>Dustin</td>\n",
              "    </tr>\n",
              "    <tr>\n",
              "      <th>3</th>\n",
              "      <td>507500.0</td>\n",
              "      <td>Adames</td>\n",
              "      <td>Cristhian</td>\n",
              "    </tr>\n",
              "    <tr>\n",
              "      <th>4</th>\n",
              "      <td>507500.0</td>\n",
              "      <td>Adams</td>\n",
              "      <td>Austin</td>\n",
              "    </tr>\n",
              "  </tbody>\n",
              "</table>\n",
              "</div>\n",
              "      <button class=\"colab-df-convert\" onclick=\"convertToInteractive('df-a3b8eea0-da5f-4d52-8aa8-1b8796f1e6c7')\"\n",
              "              title=\"Convert this dataframe to an interactive table.\"\n",
              "              style=\"display:none;\">\n",
              "        \n",
              "  <svg xmlns=\"http://www.w3.org/2000/svg\" height=\"24px\"viewBox=\"0 0 24 24\"\n",
              "       width=\"24px\">\n",
              "    <path d=\"M0 0h24v24H0V0z\" fill=\"none\"/>\n",
              "    <path d=\"M18.56 5.44l.94 2.06.94-2.06 2.06-.94-2.06-.94-.94-2.06-.94 2.06-2.06.94zm-11 1L8.5 8.5l.94-2.06 2.06-.94-2.06-.94L8.5 2.5l-.94 2.06-2.06.94zm10 10l.94 2.06.94-2.06 2.06-.94-2.06-.94-.94-2.06-.94 2.06-2.06.94z\"/><path d=\"M17.41 7.96l-1.37-1.37c-.4-.4-.92-.59-1.43-.59-.52 0-1.04.2-1.43.59L10.3 9.45l-7.72 7.72c-.78.78-.78 2.05 0 2.83L4 21.41c.39.39.9.59 1.41.59.51 0 1.02-.2 1.41-.59l7.78-7.78 2.81-2.81c.8-.78.8-2.07 0-2.86zM5.41 20L4 18.59l7.72-7.72 1.47 1.35L5.41 20z\"/>\n",
              "  </svg>\n",
              "      </button>\n",
              "      \n",
              "  <style>\n",
              "    .colab-df-container {\n",
              "      display:flex;\n",
              "      flex-wrap:wrap;\n",
              "      gap: 12px;\n",
              "    }\n",
              "\n",
              "    .colab-df-convert {\n",
              "      background-color: #E8F0FE;\n",
              "      border: none;\n",
              "      border-radius: 50%;\n",
              "      cursor: pointer;\n",
              "      display: none;\n",
              "      fill: #1967D2;\n",
              "      height: 32px;\n",
              "      padding: 0 0 0 0;\n",
              "      width: 32px;\n",
              "    }\n",
              "\n",
              "    .colab-df-convert:hover {\n",
              "      background-color: #E2EBFA;\n",
              "      box-shadow: 0px 1px 2px rgba(60, 64, 67, 0.3), 0px 1px 3px 1px rgba(60, 64, 67, 0.15);\n",
              "      fill: #174EA6;\n",
              "    }\n",
              "\n",
              "    [theme=dark] .colab-df-convert {\n",
              "      background-color: #3B4455;\n",
              "      fill: #D2E3FC;\n",
              "    }\n",
              "\n",
              "    [theme=dark] .colab-df-convert:hover {\n",
              "      background-color: #434B5C;\n",
              "      box-shadow: 0px 1px 3px 1px rgba(0, 0, 0, 0.15);\n",
              "      filter: drop-shadow(0px 1px 2px rgba(0, 0, 0, 0.3));\n",
              "      fill: #FFFFFF;\n",
              "    }\n",
              "  </style>\n",
              "\n",
              "      <script>\n",
              "        const buttonEl =\n",
              "          document.querySelector('#df-a3b8eea0-da5f-4d52-8aa8-1b8796f1e6c7 button.colab-df-convert');\n",
              "        buttonEl.style.display =\n",
              "          google.colab.kernel.accessAllowed ? 'block' : 'none';\n",
              "\n",
              "        async function convertToInteractive(key) {\n",
              "          const element = document.querySelector('#df-a3b8eea0-da5f-4d52-8aa8-1b8796f1e6c7');\n",
              "          const dataTable =\n",
              "            await google.colab.kernel.invokeFunction('convertToInteractive',\n",
              "                                                     [key], {});\n",
              "          if (!dataTable) return;\n",
              "\n",
              "          const docLinkHtml = 'Like what you see? Visit the ' +\n",
              "            '<a target=\"_blank\" href=https://colab.research.google.com/notebooks/data_table.ipynb>data table notebook</a>'\n",
              "            + ' to learn more about interactive tables.';\n",
              "          element.innerHTML = '';\n",
              "          dataTable['output_type'] = 'display_data';\n",
              "          await google.colab.output.renderOutput(dataTable, element);\n",
              "          const docLink = document.createElement('div');\n",
              "          docLink.innerHTML = docLinkHtml;\n",
              "          element.appendChild(docLink);\n",
              "        }\n",
              "      </script>\n",
              "    </div>\n",
              "  </div>\n",
              "  "
            ]
          },
          "metadata": {},
          "execution_count": 22
        }
      ]
    },
    {
      "cell_type": "markdown",
      "source": [
        "Determine Qualifying Offer\n",
        " - Find the top 125 salaries \n",
        " - Calculate their average"
      ],
      "metadata": {
        "id": "mBxQg_WvY-0I"
      }
    },
    {
      "cell_type": "code",
      "source": [
        "#find highest 125 salaries\n",
        "#used as resource: https://pandas.pydata.org/docs/reference/api/pandas.DataFrame.nlargest.html\n",
        "top_salaries = df['Salary'].nlargest(n=125).to_frame()\n",
        "\n",
        "#calculate mean of those salaries\n",
        "qual_offer = top_salaries.mean()[0]\n",
        "\n",
        "print(\"Qualifying offer: \" + \"${:,.2f}\".format(qual_offer))"
      ],
      "metadata": {
        "id": "Im8idYcjbjgW",
        "colab": {
          "base_uri": "https://localhost:8080/"
        },
        "outputId": "a2ebaf69-aa63-44db-fc34-7e2327d7a337"
      },
      "execution_count": 23,
      "outputs": [
        {
          "output_type": "stream",
          "name": "stdout",
          "text": [
            "Qualifying offer: $16,644,594.14\n"
          ]
        }
      ]
    },
    {
      "cell_type": "markdown",
      "source": [
        "Determine Qualifying Offer using SQL\n",
        " - using sqlite3\n",
        " - determine top 125 salaries\n",
        " - calculate average"
      ],
      "metadata": {
        "id": "NdUEeYI2Z_I4"
      }
    },
    {
      "cell_type": "code",
      "source": [
        "#connect and convert from pandas dataframe to SQL database\n",
        "conn = sqlite3.connect('local.db')\n",
        "df.to_sql('salary_guide', con=conn, if_exists=\"replace\")\n",
        "\n",
        "query = '''SELECT AVG(Salary) as Qualifying_Offer\n",
        "           FROM (SELECT Firstname, Lastname, Salary \n",
        "                FROM salary_guide \n",
        "                ORDER BY Salary DESC LIMIT 125 )'''\n",
        "avg_df = pd.read_sql_query(query, conn)\n",
        "\n",
        "qual_offer_sql = avg_df['Qualifying_Offer'][0]\n",
        "print(\"Qualifying offer: \" + \"${:,.2f}\".format(qual_offer_sql))\n"
      ],
      "metadata": {
        "id": "xg8miwwrytha",
        "colab": {
          "base_uri": "https://localhost:8080/"
        },
        "outputId": "7da8e40f-04d6-4e7a-add4-705852049d60"
      },
      "execution_count": 24,
      "outputs": [
        {
          "output_type": "stream",
          "name": "stdout",
          "text": [
            "Qualifying offer: $16,644,594.14\n"
          ]
        }
      ]
    },
    {
      "cell_type": "markdown",
      "source": [
        "Create visualizations to help determine if we should present our departing free agent with this qualifying offer by comparing their statisics to those of players with the top 125 salaries. \n",
        " - scrape wikipedia for statistics using player's name\n",
        " - create dataframe with relevent statistics \n",
        " - calculate averages based on player's position\n",
        " - create visualizations to help analyze this data"
      ],
      "metadata": {
        "id": "kfeg9bfgcSTV"
      }
    },
    {
      "cell_type": "code",
      "source": [
        "#create table with top 125 salaries and players\n",
        "df.to_sql('salary_guide', con=conn, if_exists=\"replace\")\n",
        "\n",
        "query = '''SELECT Firstname, Lastname, Salary \n",
        "            FROM salary_guide \n",
        "            ORDER BY Salary DESC LIMIT 125'''\n",
        "top_125_df = pd.read_sql_query(query, conn)\n",
        "\n",
        "top_125_df.head()"
      ],
      "metadata": {
        "colab": {
          "base_uri": "https://localhost:8080/",
          "height": 206
        },
        "id": "HAgah-o_d9jV",
        "outputId": "52618439-74b0-4e2a-ba73-c7f51084b3e3"
      },
      "execution_count": 25,
      "outputs": [
        {
          "output_type": "execute_result",
          "data": {
            "text/plain": [
              "  Firstname  Lastname      Salary\n",
              "0   Clayton   Kershaw  34571429.0\n",
              "1      Zack   Greinke  34000000.0\n",
              "2     David     Price  30000000.0\n",
              "3      Josh  Hamilton  28410000.0\n",
              "4    Miguel   Cabrera  28000000.0"
            ],
            "text/html": [
              "\n",
              "  <div id=\"df-b8e2a548-8444-488a-bcfe-ef1cda6542aa\">\n",
              "    <div class=\"colab-df-container\">\n",
              "      <div>\n",
              "<style scoped>\n",
              "    .dataframe tbody tr th:only-of-type {\n",
              "        vertical-align: middle;\n",
              "    }\n",
              "\n",
              "    .dataframe tbody tr th {\n",
              "        vertical-align: top;\n",
              "    }\n",
              "\n",
              "    .dataframe thead th {\n",
              "        text-align: right;\n",
              "    }\n",
              "</style>\n",
              "<table border=\"1\" class=\"dataframe\">\n",
              "  <thead>\n",
              "    <tr style=\"text-align: right;\">\n",
              "      <th></th>\n",
              "      <th>Firstname</th>\n",
              "      <th>Lastname</th>\n",
              "      <th>Salary</th>\n",
              "    </tr>\n",
              "  </thead>\n",
              "  <tbody>\n",
              "    <tr>\n",
              "      <th>0</th>\n",
              "      <td>Clayton</td>\n",
              "      <td>Kershaw</td>\n",
              "      <td>34571429.0</td>\n",
              "    </tr>\n",
              "    <tr>\n",
              "      <th>1</th>\n",
              "      <td>Zack</td>\n",
              "      <td>Greinke</td>\n",
              "      <td>34000000.0</td>\n",
              "    </tr>\n",
              "    <tr>\n",
              "      <th>2</th>\n",
              "      <td>David</td>\n",
              "      <td>Price</td>\n",
              "      <td>30000000.0</td>\n",
              "    </tr>\n",
              "    <tr>\n",
              "      <th>3</th>\n",
              "      <td>Josh</td>\n",
              "      <td>Hamilton</td>\n",
              "      <td>28410000.0</td>\n",
              "    </tr>\n",
              "    <tr>\n",
              "      <th>4</th>\n",
              "      <td>Miguel</td>\n",
              "      <td>Cabrera</td>\n",
              "      <td>28000000.0</td>\n",
              "    </tr>\n",
              "  </tbody>\n",
              "</table>\n",
              "</div>\n",
              "      <button class=\"colab-df-convert\" onclick=\"convertToInteractive('df-b8e2a548-8444-488a-bcfe-ef1cda6542aa')\"\n",
              "              title=\"Convert this dataframe to an interactive table.\"\n",
              "              style=\"display:none;\">\n",
              "        \n",
              "  <svg xmlns=\"http://www.w3.org/2000/svg\" height=\"24px\"viewBox=\"0 0 24 24\"\n",
              "       width=\"24px\">\n",
              "    <path d=\"M0 0h24v24H0V0z\" fill=\"none\"/>\n",
              "    <path d=\"M18.56 5.44l.94 2.06.94-2.06 2.06-.94-2.06-.94-.94-2.06-.94 2.06-2.06.94zm-11 1L8.5 8.5l.94-2.06 2.06-.94-2.06-.94L8.5 2.5l-.94 2.06-2.06.94zm10 10l.94 2.06.94-2.06 2.06-.94-2.06-.94-.94-2.06-.94 2.06-2.06.94z\"/><path d=\"M17.41 7.96l-1.37-1.37c-.4-.4-.92-.59-1.43-.59-.52 0-1.04.2-1.43.59L10.3 9.45l-7.72 7.72c-.78.78-.78 2.05 0 2.83L4 21.41c.39.39.9.59 1.41.59.51 0 1.02-.2 1.41-.59l7.78-7.78 2.81-2.81c.8-.78.8-2.07 0-2.86zM5.41 20L4 18.59l7.72-7.72 1.47 1.35L5.41 20z\"/>\n",
              "  </svg>\n",
              "      </button>\n",
              "      \n",
              "  <style>\n",
              "    .colab-df-container {\n",
              "      display:flex;\n",
              "      flex-wrap:wrap;\n",
              "      gap: 12px;\n",
              "    }\n",
              "\n",
              "    .colab-df-convert {\n",
              "      background-color: #E8F0FE;\n",
              "      border: none;\n",
              "      border-radius: 50%;\n",
              "      cursor: pointer;\n",
              "      display: none;\n",
              "      fill: #1967D2;\n",
              "      height: 32px;\n",
              "      padding: 0 0 0 0;\n",
              "      width: 32px;\n",
              "    }\n",
              "\n",
              "    .colab-df-convert:hover {\n",
              "      background-color: #E2EBFA;\n",
              "      box-shadow: 0px 1px 2px rgba(60, 64, 67, 0.3), 0px 1px 3px 1px rgba(60, 64, 67, 0.15);\n",
              "      fill: #174EA6;\n",
              "    }\n",
              "\n",
              "    [theme=dark] .colab-df-convert {\n",
              "      background-color: #3B4455;\n",
              "      fill: #D2E3FC;\n",
              "    }\n",
              "\n",
              "    [theme=dark] .colab-df-convert:hover {\n",
              "      background-color: #434B5C;\n",
              "      box-shadow: 0px 1px 3px 1px rgba(0, 0, 0, 0.15);\n",
              "      filter: drop-shadow(0px 1px 2px rgba(0, 0, 0, 0.3));\n",
              "      fill: #FFFFFF;\n",
              "    }\n",
              "  </style>\n",
              "\n",
              "      <script>\n",
              "        const buttonEl =\n",
              "          document.querySelector('#df-b8e2a548-8444-488a-bcfe-ef1cda6542aa button.colab-df-convert');\n",
              "        buttonEl.style.display =\n",
              "          google.colab.kernel.accessAllowed ? 'block' : 'none';\n",
              "\n",
              "        async function convertToInteractive(key) {\n",
              "          const element = document.querySelector('#df-b8e2a548-8444-488a-bcfe-ef1cda6542aa');\n",
              "          const dataTable =\n",
              "            await google.colab.kernel.invokeFunction('convertToInteractive',\n",
              "                                                     [key], {});\n",
              "          if (!dataTable) return;\n",
              "\n",
              "          const docLinkHtml = 'Like what you see? Visit the ' +\n",
              "            '<a target=\"_blank\" href=https://colab.research.google.com/notebooks/data_table.ipynb>data table notebook</a>'\n",
              "            + ' to learn more about interactive tables.';\n",
              "          element.innerHTML = '';\n",
              "          dataTable['output_type'] = 'display_data';\n",
              "          await google.colab.output.renderOutput(dataTable, element);\n",
              "          const docLink = document.createElement('div');\n",
              "          docLink.innerHTML = docLinkHtml;\n",
              "          element.appendChild(docLink);\n",
              "        }\n",
              "      </script>\n",
              "    </div>\n",
              "  </div>\n",
              "  "
            ]
          },
          "metadata": {},
          "execution_count": 25
        }
      ]
    },
    {
      "cell_type": "code",
      "source": [
        "#used lelctures from UPenn's MCIT Course \"545: Big Data Analytics\" Modules 1 & 2 as resources for this section\n",
        "#used as reference = https://pandas.pydata.org/docs/reference/api/pandas.DataFrame.iterrows.html\n",
        "crawl_list = []\n",
        "pages = []\n",
        "wiki_df = pd.DataFrame(columns = ['Firstname', 'Lastname', 'Wiki Page'])\n",
        "\n",
        "#loop through top 125 players and create their wikipedia pages\n",
        "for i, series in top_125_df.iterrows():\n",
        "  url = 'https://en.wikipedia.org/wiki/' + top_125_df['Firstname'][i].replace(' ', '_') +  '_' + top_125_df['Lastname'][i].replace(' ', '_')\n",
        "  crawl_list.append(url)\n",
        "  # Some of the accent characters won't work, need to convert them into an HTML URL\n",
        "  #split the URL, then use \"parse.quote\" to change the structure, then re-form the URL\n",
        "  url_list = list(urllib.parse.urlsplit(url))\n",
        "  url_list[2] = urllib.parse.quote(url_list[2])\n",
        "  url_ascii = urllib.parse.urlunsplit(url_list)\n",
        "  try:\n",
        "    response = urllib.request.urlopen(url_ascii)\n",
        "    #Save page and url for later use.\n",
        "    pages.append(response)\n",
        "  except urllib.error.URLError as e:\n",
        "    #if unable to open the page, just add None \n",
        "    pages.append(None)\n",
        "    #print(e.reason)\n",
        "  \n",
        "top_125_df['Wiki Page'] = crawl_list\n",
        "top_125_df['url_response'] = pages\n",
        "top_125_df.head()\n"
      ],
      "metadata": {
        "id": "9avb4_oI5cpI"
      },
      "execution_count": null,
      "outputs": []
    },
    {
      "cell_type": "code",
      "source": [
        "#create column headers for possible statistics \n",
        "top_125_df = pd.concat([top_125_df,pd.DataFrame(columns=['Position', 'Age', 'Earned run average', 'Strikeouts', 'Batting average', 'Home runs', 'Runs batted in'])])"
      ],
      "metadata": {
        "id": "CuYFfys_ZuwI"
      },
      "execution_count": null,
      "outputs": []
    },
    {
      "cell_type": "code",
      "source": [
        "#to avoid warning given\n",
        "#https://stackoverflow.com/questions/20625582/how-to-deal-with-settingwithcopywarning-in-pandas\n",
        "pd.options.mode.chained_assignment = None"
      ],
      "metadata": {
        "id": "oIkM5lV1aR7y"
      },
      "execution_count": null,
      "outputs": []
    },
    {
      "cell_type": "code",
      "source": [
        "#loop through each player, scrape wikipedia page for relevant statistics \n",
        "\n",
        "for i, series in top_125_df.iterrows():  \n",
        "    #make sure only reading pages that worked previously\n",
        "    if (top_125_df['url_response'][i] != None):\n",
        "      source = urlopen(top_125_df['Wiki Page'][i]).read()\n",
        "      \n",
        "      #create a DOM tree of the page\n",
        "      tree = etree.HTML(source.decode(\"utf-8\"))  \n",
        "\n",
        "      #get player age\n",
        "      age = tree.xpath('//table[contains(@class,\"vcard\")]//span[@class=\"noprint ForceAgeToShow\"]/text()')\n",
        "      if len(age) > 0:\n",
        "        top_125_df['Age'][i] = int((age[0])[-3:-1])\n",
        "  \n",
        "      #get player position\n",
        "      position = tree.xpath('//table[contains(@class,\"vcard\")]//td[@class=\"infobox-full-data\"]//a/text()')      \n",
        "      if len(position) > 1:\n",
        "        if \"pitcher\" in str(position[0]).lower():\n",
        "          top_125_df['Position'][i] = \"Pitcher\"\n",
        "        else:\n",
        "          top_125_df['Position'][i] = str(position[0])\n",
        "      \n",
        "      #get additional statistics ('Strikeouts', 'Home runs', 'Runs batted in', 'Earned run average', 'Batting average')\n",
        "      stat_labels = tree.xpath('//table[contains(@class,\"vcard\")]//tr//th/a/text()')\n",
        "      stat_data = tree.xpath('//table[contains(@class,\"vcard\")]//tr//td[contains(@class, \"infobox-data\")]/text()')\n",
        "\n",
        "      row_headers_int = ['Strikeouts', 'Home runs', 'Runs batted in']\n",
        "      row_headers_float = ['Earned run average', 'Batting average']\n",
        "\n",
        "      #loop through labels found and if they are in the list above, add that data to the table\n",
        "      for j in range(len(stat_labels)):\n",
        "        if stat_labels[j] in row_headers_int:\n",
        "          top_125_df[stat_labels[j]][i] = int(stat_data[j].replace(\",\",\"\"))\n",
        "        elif stat_labels[j] in row_headers_float:\n",
        "          top_125_df[stat_labels[j]][i] = float(stat_data[j])\n",
        "\n",
        "top_125_df.head()\n"
      ],
      "metadata": {
        "id": "5drvytZhE_hd"
      },
      "execution_count": null,
      "outputs": []
    },
    {
      "cell_type": "code",
      "source": [
        "#general cleaning \n",
        "\n",
        "#drop wikipedia site - no longer needed\n",
        "top_125_df = top_125_df.drop(columns = ['Wiki Page', 'url_response'])\n",
        "\n",
        "#rename column headers - replace spaces with underscores\n",
        "top_125_df.columns = top_125_df.columns.str.replace(' ','_')"
      ],
      "metadata": {
        "id": "piSIf7VlY_MM"
      },
      "execution_count": null,
      "outputs": []
    },
    {
      "cell_type": "code",
      "source": [
        "#Use sqlite for table - will use for future queries\n",
        "top_125_df.to_sql('top_125_stats', con=conn, if_exists=\"replace\")\n",
        "top_125_stats_sql = pd.read_sql_query('SELECT * FROM top_125_stats', conn)\n",
        "top_125_stats_sql.head()"
      ],
      "metadata": {
        "id": "59ml8dIXMb1H"
      },
      "execution_count": null,
      "outputs": []
    },
    {
      "cell_type": "code",
      "source": [
        "#serperate pitcher stats from other players\n",
        "query = '''SELECT Firstname, Lastname, Position, Salary, Age, Earned_run_average, Strikeouts \n",
        "          FROM top_125_stats \n",
        "          WHERE Position = \"Pitcher\"'''\n",
        "pitcher_stats = pd.read_sql_query(query, conn)\n",
        "pitcher_stats.head()"
      ],
      "metadata": {
        "id": "opYZsk6UL3fW"
      },
      "execution_count": null,
      "outputs": []
    },
    {
      "cell_type": "code",
      "source": [
        "#serperate pitcher stats from other players\n",
        "query = '''SELECT Firstname, Lastname, Position, Salary, Age, Batting_average,\tHome_runs,\tRuns_batted_in\n",
        "          FROM top_125_stats \n",
        "          WHERE Position != \"Pitcher\"'''\n",
        "player_stats = pd.read_sql_query(query, conn)\n",
        "player_stats"
      ],
      "metadata": {
        "id": "BDo7PLDnng9l"
      },
      "execution_count": null,
      "outputs": []
    },
    {
      "cell_type": "code",
      "source": [
        "#calculate averages stats for pitchers\n",
        "\n",
        "query = '''SELECT Position, AVG(Salary) as Avg_Salary, AVG(Age) AS Avg_Age, AVG(Earned_run_average) as Avg_ERA, AVG(Strikeouts) AS Avg_Strikeouts\n",
        "          FROM top_125_stats\n",
        "          WHERE Position = \"Pitcher\"\n",
        "          GROUP BY Position'''\n",
        "avg_pitcher_stats = pd.read_sql_query(query, conn)\n",
        "avg_pitcher_stats.head()"
      ],
      "metadata": {
        "id": "4gq3enIslGPf"
      },
      "execution_count": null,
      "outputs": []
    },
    {
      "cell_type": "code",
      "source": [
        "#calculate average stats remaining positions\n",
        "query = '''SELECT Position, AVG(Salary) as Avg_Salary, AVG(Age) AS Avg_Age, AVG(Batting_average) as Avg_Batting_average, AVG(Home_runs) AS Avg_Home_runs, AVG(Runs_batted_in) as Avg_Runs_batted_in\n",
        "          FROM top_125_stats\n",
        "          WHERE Position != \"None\" and Position != \"Pitcher\"\n",
        "          GROUP BY Position'''\n",
        "avg_player_stats = pd.read_sql_query(query, conn)\n",
        "avg_player_stats"
      ],
      "metadata": {
        "id": "yi5BOY-EodnM"
      },
      "execution_count": null,
      "outputs": []
    },
    {
      "cell_type": "markdown",
      "source": [
        "###**Time to see the graphs!**\n",
        "\n",
        "For each of the graphs below:\n",
        " - a **purple** line represents the qualifying offer\n",
        " - a **red** line represents the average for the statistic for that position\n",
        " - a **blue** line represents the line of best fit for the given scatter plot\n",
        "\n",
        "\n"
      ],
      "metadata": {
        "id": "0PUtsHgvJVK5"
      }
    },
    {
      "cell_type": "code",
      "source": [
        "def create_scatterplot(x, y, x_label, y_label, position, avg_x, avg_y):\n",
        "  #create scatter plot with x & y data\n",
        "  plt.scatter(x, y)\n",
        "  \n",
        "  #set titles/labels\n",
        "  title = position + \" \" + x_label + \" vs \" + y_label\n",
        "  plt.title(title)\n",
        "  plt.xlabel(x_label)\n",
        "  plt.ylabel(y_label)\n",
        "\n",
        "  #create line of best fit\n",
        "  m, b = np.polyfit(x, y, 1)\n",
        "  plt.plot(x, m*x+b)\n",
        "\n",
        "  #plot average point & lines for given position/stat\n",
        "  plt.plot(avg_x,avg_y,'ro') \n",
        "  plt.axvline(x = avg_x, color = 'r')\n",
        "  plt.axhline(y = avg_y, color = 'r')\n",
        "\n",
        "  #plot qualifying offer\n",
        "  plt.axhline(y = qual_offer/1000000, color = 'purple')\n",
        "\n",
        "  #show the final graph\n",
        "  plt.show()\n",
        "\n"
      ],
      "metadata": {
        "id": "YQUj5aK8ZxU7"
      },
      "execution_count": null,
      "outputs": []
    },
    {
      "cell_type": "markdown",
      "source": [
        "First, the Pitchers: "
      ],
      "metadata": {
        "id": "gQwyqafndgtM"
      }
    },
    {
      "cell_type": "code",
      "source": [
        "#ERA\n",
        "create_scatterplot(pitcher_stats['Earned_run_average'], pitcher_stats['Salary']/1000000, \"Earned Run Average\", \"Salary\", \"Pitcher\", avg_pitcher_stats['Avg_ERA'][0], avg_pitcher_stats['Avg_Salary'][0]/1000000)\n",
        "#Strikeouts\n",
        "create_scatterplot(pitcher_stats['Strikeouts'], pitcher_stats['Salary']/1000000, \"Strikeouts\", \"Salary\", \"Pitcher\", avg_pitcher_stats['Avg_Strikeouts'][0], avg_pitcher_stats['Avg_Salary'][0]/1000000)\n",
        "#Age\n",
        "create_scatterplot(pitcher_stats['Age'], pitcher_stats['Salary']/1000000, \"Age\", \"Salary\", \"Pitcher\", avg_pitcher_stats['Avg_Age'][0], avg_pitcher_stats['Avg_Salary'][0]/1000000)\n"
      ],
      "metadata": {
        "id": "605as_LVknb1"
      },
      "execution_count": null,
      "outputs": []
    },
    {
      "cell_type": "code",
      "source": [
        "#loop through all of the stats for each of the positions to display their graphs \n",
        "stat_list = ['Age', 'Batting_average',\t'Home_runs', 'Runs_batted_in']\n",
        "for i in range(len(avg_player_stats['Position'])):\n",
        "  position = avg_player_stats['Position'][i]\n",
        "  print(position)\n",
        "  for stat in stat_list:\n",
        "    x = player_stats[stat]\n",
        "    y = player_stats['Salary']/1000000\n",
        "    x_label = stat\n",
        "    y_label = 'Salary (in millions)'\n",
        "    position = position\n",
        "    avg_x = avg_player_stats['Avg_' + stat][i]\n",
        "    avg_y = avg_player_stats['Avg_Salary'][i]/1000000\n",
        "    #ensure stat exists before plotting\n",
        "    if(not math.isnan(player_stats[stat][i])):\n",
        "      create_scatterplot(x, y, x_label, y_label, position, avg_x, avg_y)\n",
        "  print(\"\\n\")\n",
        "  "
      ],
      "metadata": {
        "id": "1K8ZhAdRkAAE"
      },
      "execution_count": null,
      "outputs": []
    }
  ]
}